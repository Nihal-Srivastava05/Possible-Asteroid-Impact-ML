{
 "cells": [
  {
   "cell_type": "code",
   "execution_count": 2,
   "metadata": {
    "id": "-o2lWlkNXMDX"
   },
   "outputs": [],
   "source": [
    "# from google.colab import drive\n",
    "# drive.mount('/content/drive')"
   ]
  },
  {
   "cell_type": "code",
   "execution_count": 3,
   "metadata": {
    "id": "R1ki3j0WXNSO"
   },
   "outputs": [],
   "source": [
    "import pandas as pd\n",
    "import numpy as np\n",
    "import matplotlib.pyplot as plt\n",
    "import seaborn as sns\n",
    "from sklearn.preprocessing import LabelEncoder\n",
    "from sklearn.model_selection import train_test_split "
   ]
  },
  {
   "cell_type": "code",
   "execution_count": 4,
   "metadata": {
    "colab": {
     "base_uri": "https://localhost:8080/",
     "height": 574
    },
    "id": "7T6msY91Xu7n",
    "outputId": "7095dd4f-b3ca-4a02-fd3b-8fbbe9024d13"
   },
   "outputs": [
    {
     "data": {
      "text/html": [
       "<div>\n",
       "<style scoped>\n",
       "    .dataframe tbody tr th:only-of-type {\n",
       "        vertical-align: middle;\n",
       "    }\n",
       "\n",
       "    .dataframe tbody tr th {\n",
       "        vertical-align: top;\n",
       "    }\n",
       "\n",
       "    .dataframe thead th {\n",
       "        text-align: right;\n",
       "    }\n",
       "</style>\n",
       "<table border=\"1\" class=\"dataframe\">\n",
       "  <thead>\n",
       "    <tr style=\"text-align: right;\">\n",
       "      <th></th>\n",
       "      <th>Object Name</th>\n",
       "      <th>Object Classification</th>\n",
       "      <th>Epoch (TDB)</th>\n",
       "      <th>Orbit Axis (AU)</th>\n",
       "      <th>Orbit Eccentricity</th>\n",
       "      <th>Orbit Inclination (deg)</th>\n",
       "      <th>Perihelion Argument (deg)</th>\n",
       "      <th>Node Longitude (deg)</th>\n",
       "      <th>Mean Anomoly (deg)</th>\n",
       "      <th>Perihelion Distance (AU)</th>\n",
       "      <th>Aphelion Distance (AU)</th>\n",
       "      <th>Orbital Period (yr)</th>\n",
       "      <th>Minimum Orbit Intersection Distance (AU)</th>\n",
       "      <th>Orbital Reference</th>\n",
       "      <th>Asteroid Magnitude</th>\n",
       "    </tr>\n",
       "  </thead>\n",
       "  <tbody>\n",
       "    <tr>\n",
       "      <th>0</th>\n",
       "      <td>433 Eros</td>\n",
       "      <td>Amor Asteroid</td>\n",
       "      <td>57800</td>\n",
       "      <td>1.4579</td>\n",
       "      <td>0.2226</td>\n",
       "      <td>10.8277</td>\n",
       "      <td>178.8050</td>\n",
       "      <td>304.3265</td>\n",
       "      <td>319.3111</td>\n",
       "      <td>1.1335</td>\n",
       "      <td>1.78</td>\n",
       "      <td>1.76</td>\n",
       "      <td>0.1492</td>\n",
       "      <td>598</td>\n",
       "      <td>11.16</td>\n",
       "    </tr>\n",
       "    <tr>\n",
       "      <th>1</th>\n",
       "      <td>719 Albert</td>\n",
       "      <td>Amor Asteroid</td>\n",
       "      <td>57800</td>\n",
       "      <td>2.6385</td>\n",
       "      <td>0.5479</td>\n",
       "      <td>11.5822</td>\n",
       "      <td>156.1409</td>\n",
       "      <td>183.9204</td>\n",
       "      <td>224.5535</td>\n",
       "      <td>1.1928</td>\n",
       "      <td>4.08</td>\n",
       "      <td>4.29</td>\n",
       "      <td>0.2004</td>\n",
       "      <td>78</td>\n",
       "      <td>15.50</td>\n",
       "    </tr>\n",
       "    <tr>\n",
       "      <th>2</th>\n",
       "      <td>887 Alinda</td>\n",
       "      <td>Amor Asteroid</td>\n",
       "      <td>57800</td>\n",
       "      <td>2.4787</td>\n",
       "      <td>0.5671</td>\n",
       "      <td>9.3561</td>\n",
       "      <td>350.3482</td>\n",
       "      <td>110.5444</td>\n",
       "      <td>351.3730</td>\n",
       "      <td>1.0731</td>\n",
       "      <td>3.88</td>\n",
       "      <td>3.90</td>\n",
       "      <td>0.0925</td>\n",
       "      <td>188</td>\n",
       "      <td>13.40</td>\n",
       "    </tr>\n",
       "    <tr>\n",
       "      <th>3</th>\n",
       "      <td>1036 Ganymed</td>\n",
       "      <td>Amor Asteroid</td>\n",
       "      <td>57800</td>\n",
       "      <td>2.6628</td>\n",
       "      <td>0.5338</td>\n",
       "      <td>26.6929</td>\n",
       "      <td>132.4690</td>\n",
       "      <td>215.5551</td>\n",
       "      <td>92.5640</td>\n",
       "      <td>1.2413</td>\n",
       "      <td>4.08</td>\n",
       "      <td>4.35</td>\n",
       "      <td>0.3421</td>\n",
       "      <td>597</td>\n",
       "      <td>9.45</td>\n",
       "    </tr>\n",
       "    <tr>\n",
       "      <th>4</th>\n",
       "      <td>1221 Amor</td>\n",
       "      <td>Amor Asteroid</td>\n",
       "      <td>57800</td>\n",
       "      <td>1.9191</td>\n",
       "      <td>0.4356</td>\n",
       "      <td>11.8795</td>\n",
       "      <td>26.6572</td>\n",
       "      <td>171.3448</td>\n",
       "      <td>313.7379</td>\n",
       "      <td>1.0832</td>\n",
       "      <td>2.76</td>\n",
       "      <td>2.66</td>\n",
       "      <td>0.1068</td>\n",
       "      <td>70</td>\n",
       "      <td>17.70</td>\n",
       "    </tr>\n",
       "    <tr>\n",
       "      <th>...</th>\n",
       "      <td>...</td>\n",
       "      <td>...</td>\n",
       "      <td>...</td>\n",
       "      <td>...</td>\n",
       "      <td>...</td>\n",
       "      <td>...</td>\n",
       "      <td>...</td>\n",
       "      <td>...</td>\n",
       "      <td>...</td>\n",
       "      <td>...</td>\n",
       "      <td>...</td>\n",
       "      <td>...</td>\n",
       "      <td>...</td>\n",
       "      <td>...</td>\n",
       "      <td>...</td>\n",
       "    </tr>\n",
       "    <tr>\n",
       "      <th>15629</th>\n",
       "      <td>(2017 CX1)</td>\n",
       "      <td>Apollo Asteroid</td>\n",
       "      <td>57800</td>\n",
       "      <td>1.4096</td>\n",
       "      <td>0.2946</td>\n",
       "      <td>3.4011</td>\n",
       "      <td>353.7433</td>\n",
       "      <td>138.1226</td>\n",
       "      <td>8.7456</td>\n",
       "      <td>0.9943</td>\n",
       "      <td>1.82</td>\n",
       "      <td>1.67</td>\n",
       "      <td>0.0092</td>\n",
       "      <td>2</td>\n",
       "      <td>28.21</td>\n",
       "    </tr>\n",
       "    <tr>\n",
       "      <th>15630</th>\n",
       "      <td>(2017 CO5)</td>\n",
       "      <td>Amor Asteroid</td>\n",
       "      <td>57789</td>\n",
       "      <td>2.2612</td>\n",
       "      <td>0.4429</td>\n",
       "      <td>28.9728</td>\n",
       "      <td>147.6444</td>\n",
       "      <td>348.1501</td>\n",
       "      <td>5.7171</td>\n",
       "      <td>1.2598</td>\n",
       "      <td>3.26</td>\n",
       "      <td>3.40</td>\n",
       "      <td>0.3136</td>\n",
       "      <td>2</td>\n",
       "      <td>20.04</td>\n",
       "    </tr>\n",
       "    <tr>\n",
       "      <th>15631</th>\n",
       "      <td>(2017 CP5)</td>\n",
       "      <td>Amor Asteroid</td>\n",
       "      <td>57800</td>\n",
       "      <td>1.5131</td>\n",
       "      <td>0.3275</td>\n",
       "      <td>14.2656</td>\n",
       "      <td>46.6749</td>\n",
       "      <td>130.7234</td>\n",
       "      <td>344.8663</td>\n",
       "      <td>1.0175</td>\n",
       "      <td>2.01</td>\n",
       "      <td>1.86</td>\n",
       "      <td>0.0934</td>\n",
       "      <td>1</td>\n",
       "      <td>24.74</td>\n",
       "    </tr>\n",
       "    <tr>\n",
       "      <th>15632</th>\n",
       "      <td>(2017 CR5)</td>\n",
       "      <td>Apollo Asteroid</td>\n",
       "      <td>57793</td>\n",
       "      <td>1.8815</td>\n",
       "      <td>0.4646</td>\n",
       "      <td>7.1647</td>\n",
       "      <td>0.2261</td>\n",
       "      <td>136.7746</td>\n",
       "      <td>1.1654</td>\n",
       "      <td>1.0073</td>\n",
       "      <td>2.76</td>\n",
       "      <td>2.58</td>\n",
       "      <td>0.0213</td>\n",
       "      <td>1</td>\n",
       "      <td>26.95</td>\n",
       "    </tr>\n",
       "    <tr>\n",
       "      <th>15633</th>\n",
       "      <td>(6344 P-L)</td>\n",
       "      <td>Apollo Asteroid (Hazard)</td>\n",
       "      <td>57800</td>\n",
       "      <td>2.8043</td>\n",
       "      <td>0.6672</td>\n",
       "      <td>4.7249</td>\n",
       "      <td>234.1260</td>\n",
       "      <td>183.5747</td>\n",
       "      <td>349.5302</td>\n",
       "      <td>0.9332</td>\n",
       "      <td>4.68</td>\n",
       "      <td>4.70</td>\n",
       "      <td>0.0288</td>\n",
       "      <td>16</td>\n",
       "      <td>20.40</td>\n",
       "    </tr>\n",
       "  </tbody>\n",
       "</table>\n",
       "<p>15634 rows × 15 columns</p>\n",
       "</div>"
      ],
      "text/plain": [
       "        Object Name     Object Classification  Epoch (TDB)  Orbit Axis (AU)  \\\n",
       "0          433 Eros             Amor Asteroid        57800           1.4579   \n",
       "1        719 Albert             Amor Asteroid        57800           2.6385   \n",
       "2        887 Alinda             Amor Asteroid        57800           2.4787   \n",
       "3      1036 Ganymed             Amor Asteroid        57800           2.6628   \n",
       "4         1221 Amor             Amor Asteroid        57800           1.9191   \n",
       "...             ...                       ...          ...              ...   \n",
       "15629    (2017 CX1)           Apollo Asteroid        57800           1.4096   \n",
       "15630    (2017 CO5)             Amor Asteroid        57789           2.2612   \n",
       "15631    (2017 CP5)             Amor Asteroid        57800           1.5131   \n",
       "15632    (2017 CR5)           Apollo Asteroid        57793           1.8815   \n",
       "15633    (6344 P-L)  Apollo Asteroid (Hazard)        57800           2.8043   \n",
       "\n",
       "       Orbit Eccentricity  Orbit Inclination (deg)  Perihelion Argument (deg)  \\\n",
       "0                  0.2226                  10.8277                   178.8050   \n",
       "1                  0.5479                  11.5822                   156.1409   \n",
       "2                  0.5671                   9.3561                   350.3482   \n",
       "3                  0.5338                  26.6929                   132.4690   \n",
       "4                  0.4356                  11.8795                    26.6572   \n",
       "...                   ...                      ...                        ...   \n",
       "15629              0.2946                   3.4011                   353.7433   \n",
       "15630              0.4429                  28.9728                   147.6444   \n",
       "15631              0.3275                  14.2656                    46.6749   \n",
       "15632              0.4646                   7.1647                     0.2261   \n",
       "15633              0.6672                   4.7249                   234.1260   \n",
       "\n",
       "       Node Longitude (deg)  Mean Anomoly (deg)  Perihelion Distance (AU)  \\\n",
       "0                  304.3265            319.3111                    1.1335   \n",
       "1                  183.9204            224.5535                    1.1928   \n",
       "2                  110.5444            351.3730                    1.0731   \n",
       "3                  215.5551             92.5640                    1.2413   \n",
       "4                  171.3448            313.7379                    1.0832   \n",
       "...                     ...                 ...                       ...   \n",
       "15629              138.1226              8.7456                    0.9943   \n",
       "15630              348.1501              5.7171                    1.2598   \n",
       "15631              130.7234            344.8663                    1.0175   \n",
       "15632              136.7746              1.1654                    1.0073   \n",
       "15633              183.5747            349.5302                    0.9332   \n",
       "\n",
       "       Aphelion Distance (AU)  Orbital Period (yr)  \\\n",
       "0                        1.78                 1.76   \n",
       "1                        4.08                 4.29   \n",
       "2                        3.88                 3.90   \n",
       "3                        4.08                 4.35   \n",
       "4                        2.76                 2.66   \n",
       "...                       ...                  ...   \n",
       "15629                    1.82                 1.67   \n",
       "15630                    3.26                 3.40   \n",
       "15631                    2.01                 1.86   \n",
       "15632                    2.76                 2.58   \n",
       "15633                    4.68                 4.70   \n",
       "\n",
       "       Minimum Orbit Intersection Distance (AU)  Orbital Reference  \\\n",
       "0                                        0.1492                598   \n",
       "1                                        0.2004                 78   \n",
       "2                                        0.0925                188   \n",
       "3                                        0.3421                597   \n",
       "4                                        0.1068                 70   \n",
       "...                                         ...                ...   \n",
       "15629                                    0.0092                  2   \n",
       "15630                                    0.3136                  2   \n",
       "15631                                    0.0934                  1   \n",
       "15632                                    0.0213                  1   \n",
       "15633                                    0.0288                 16   \n",
       "\n",
       "       Asteroid Magnitude  \n",
       "0                   11.16  \n",
       "1                   15.50  \n",
       "2                   13.40  \n",
       "3                    9.45  \n",
       "4                   17.70  \n",
       "...                   ...  \n",
       "15629               28.21  \n",
       "15630               20.04  \n",
       "15631               24.74  \n",
       "15632               26.95  \n",
       "15633               20.40  \n",
       "\n",
       "[15634 rows x 15 columns]"
      ]
     },
     "execution_count": 4,
     "metadata": {},
     "output_type": "execute_result"
    }
   ],
   "source": [
    "# df = pd.read_csv('/content/drive/MyDrive/Colab Notebooks/DAC FFCS/Possible asteroid impacts/final_orbit.csv')\n",
    "df = pd.read_csv('../datasets/final_orbit.csv')\n",
    "df"
   ]
  },
  {
   "cell_type": "code",
   "execution_count": 5,
   "metadata": {
    "colab": {
     "base_uri": "https://localhost:8080/"
    },
    "id": "tzMUA0R6X0G6",
    "outputId": "2b7ff1f1-6878-4256-e8d0-66eb6f2ca92c"
   },
   "outputs": [
    {
     "data": {
      "text/plain": [
       "(15634, 15)"
      ]
     },
     "execution_count": 5,
     "metadata": {},
     "output_type": "execute_result"
    }
   ],
   "source": [
    "df.shape"
   ]
  },
  {
   "cell_type": "code",
   "execution_count": 6,
   "metadata": {
    "colab": {
     "base_uri": "https://localhost:8080/"
    },
    "id": "ycSOCnTzX2x4",
    "outputId": "2c98d13e-35b8-4bec-9727-474ba49a3016"
   },
   "outputs": [
    {
     "data": {
      "text/plain": [
       "Object Name                                 0\n",
       "Object Classification                       0\n",
       "Epoch (TDB)                                 0\n",
       "Orbit Axis (AU)                             0\n",
       "Orbit Eccentricity                          0\n",
       "Orbit Inclination (deg)                     0\n",
       "Perihelion Argument (deg)                   0\n",
       "Node Longitude (deg)                        0\n",
       "Mean Anomoly (deg)                          0\n",
       "Perihelion Distance (AU)                    0\n",
       "Aphelion Distance (AU)                      0\n",
       "Orbital Period (yr)                         0\n",
       "Minimum Orbit Intersection Distance (AU)    0\n",
       "Orbital Reference                           0\n",
       "Asteroid Magnitude                          0\n",
       "dtype: int64"
      ]
     },
     "execution_count": 6,
     "metadata": {},
     "output_type": "execute_result"
    }
   ],
   "source": [
    "df.isnull().sum()"
   ]
  },
  {
   "cell_type": "code",
   "execution_count": 7,
   "metadata": {
    "colab": {
     "base_uri": "https://localhost:8080/"
    },
    "id": "8f_V3-ZiYON0",
    "outputId": "bf3367ec-b0d6-422e-a6e7-67eef68eb85e"
   },
   "outputs": [
    {
     "data": {
      "text/plain": [
       "Object Name                                 15634\n",
       "Object Classification                           8\n",
       "Epoch (TDB)                                  1833\n",
       "Orbit Axis (AU)                             10927\n",
       "Orbit Eccentricity                           6279\n",
       "Orbit Inclination (deg)                     15169\n",
       "Perihelion Argument (deg)                   15606\n",
       "Node Longitude (deg)                        15596\n",
       "Mean Anomoly (deg)                          15604\n",
       "Perihelion Distance (AU)                     7206\n",
       "Aphelion Distance (AU)                        519\n",
       "Orbital Period (yr)                           600\n",
       "Minimum Orbit Intersection Distance (AU)     3449\n",
       "Orbital Reference                             262\n",
       "Asteroid Magnitude                            477\n",
       "dtype: int64"
      ]
     },
     "execution_count": 7,
     "metadata": {},
     "output_type": "execute_result"
    }
   ],
   "source": [
    "df.nunique()"
   ]
  },
  {
   "cell_type": "code",
   "execution_count": 8,
   "metadata": {
    "colab": {
     "base_uri": "https://localhost:8080/",
     "height": 557
    },
    "id": "qsk3THmwYUTq",
    "outputId": "ac5b8417-b919-455d-fc2f-9195f1c659b3"
   },
   "outputs": [
    {
     "data": {
      "text/html": [
       "<div>\n",
       "<style scoped>\n",
       "    .dataframe tbody tr th:only-of-type {\n",
       "        vertical-align: middle;\n",
       "    }\n",
       "\n",
       "    .dataframe tbody tr th {\n",
       "        vertical-align: top;\n",
       "    }\n",
       "\n",
       "    .dataframe thead th {\n",
       "        text-align: right;\n",
       "    }\n",
       "</style>\n",
       "<table border=\"1\" class=\"dataframe\">\n",
       "  <thead>\n",
       "    <tr style=\"text-align: right;\">\n",
       "      <th></th>\n",
       "      <th>Object Name</th>\n",
       "      <th>Object Classification</th>\n",
       "      <th>Epoch (TDB)</th>\n",
       "      <th>Orbit Axis (AU)</th>\n",
       "      <th>Orbit Eccentricity</th>\n",
       "      <th>Orbit Inclination (deg)</th>\n",
       "      <th>Perihelion Argument (deg)</th>\n",
       "      <th>Node Longitude (deg)</th>\n",
       "      <th>Mean Anomoly (deg)</th>\n",
       "      <th>Perihelion Distance (AU)</th>\n",
       "      <th>Aphelion Distance (AU)</th>\n",
       "      <th>Orbital Period (yr)</th>\n",
       "      <th>Minimum Orbit Intersection Distance (AU)</th>\n",
       "      <th>Orbital Reference</th>\n",
       "      <th>Asteroid Magnitude</th>\n",
       "    </tr>\n",
       "  </thead>\n",
       "  <tbody>\n",
       "    <tr>\n",
       "      <th>0</th>\n",
       "      <td>433 Eros</td>\n",
       "      <td>0</td>\n",
       "      <td>57800</td>\n",
       "      <td>1.4579</td>\n",
       "      <td>0.2226</td>\n",
       "      <td>10.8277</td>\n",
       "      <td>178.8050</td>\n",
       "      <td>304.3265</td>\n",
       "      <td>319.3111</td>\n",
       "      <td>1.1335</td>\n",
       "      <td>1.78</td>\n",
       "      <td>1.76</td>\n",
       "      <td>0.1492</td>\n",
       "      <td>598</td>\n",
       "      <td>11.16</td>\n",
       "    </tr>\n",
       "    <tr>\n",
       "      <th>1</th>\n",
       "      <td>719 Albert</td>\n",
       "      <td>0</td>\n",
       "      <td>57800</td>\n",
       "      <td>2.6385</td>\n",
       "      <td>0.5479</td>\n",
       "      <td>11.5822</td>\n",
       "      <td>156.1409</td>\n",
       "      <td>183.9204</td>\n",
       "      <td>224.5535</td>\n",
       "      <td>1.1928</td>\n",
       "      <td>4.08</td>\n",
       "      <td>4.29</td>\n",
       "      <td>0.2004</td>\n",
       "      <td>78</td>\n",
       "      <td>15.50</td>\n",
       "    </tr>\n",
       "    <tr>\n",
       "      <th>2</th>\n",
       "      <td>887 Alinda</td>\n",
       "      <td>0</td>\n",
       "      <td>57800</td>\n",
       "      <td>2.4787</td>\n",
       "      <td>0.5671</td>\n",
       "      <td>9.3561</td>\n",
       "      <td>350.3482</td>\n",
       "      <td>110.5444</td>\n",
       "      <td>351.3730</td>\n",
       "      <td>1.0731</td>\n",
       "      <td>3.88</td>\n",
       "      <td>3.90</td>\n",
       "      <td>0.0925</td>\n",
       "      <td>188</td>\n",
       "      <td>13.40</td>\n",
       "    </tr>\n",
       "    <tr>\n",
       "      <th>3</th>\n",
       "      <td>1036 Ganymed</td>\n",
       "      <td>0</td>\n",
       "      <td>57800</td>\n",
       "      <td>2.6628</td>\n",
       "      <td>0.5338</td>\n",
       "      <td>26.6929</td>\n",
       "      <td>132.4690</td>\n",
       "      <td>215.5551</td>\n",
       "      <td>92.5640</td>\n",
       "      <td>1.2413</td>\n",
       "      <td>4.08</td>\n",
       "      <td>4.35</td>\n",
       "      <td>0.3421</td>\n",
       "      <td>597</td>\n",
       "      <td>9.45</td>\n",
       "    </tr>\n",
       "    <tr>\n",
       "      <th>4</th>\n",
       "      <td>1221 Amor</td>\n",
       "      <td>0</td>\n",
       "      <td>57800</td>\n",
       "      <td>1.9191</td>\n",
       "      <td>0.4356</td>\n",
       "      <td>11.8795</td>\n",
       "      <td>26.6572</td>\n",
       "      <td>171.3448</td>\n",
       "      <td>313.7379</td>\n",
       "      <td>1.0832</td>\n",
       "      <td>2.76</td>\n",
       "      <td>2.66</td>\n",
       "      <td>0.1068</td>\n",
       "      <td>70</td>\n",
       "      <td>17.70</td>\n",
       "    </tr>\n",
       "    <tr>\n",
       "      <th>...</th>\n",
       "      <td>...</td>\n",
       "      <td>...</td>\n",
       "      <td>...</td>\n",
       "      <td>...</td>\n",
       "      <td>...</td>\n",
       "      <td>...</td>\n",
       "      <td>...</td>\n",
       "      <td>...</td>\n",
       "      <td>...</td>\n",
       "      <td>...</td>\n",
       "      <td>...</td>\n",
       "      <td>...</td>\n",
       "      <td>...</td>\n",
       "      <td>...</td>\n",
       "      <td>...</td>\n",
       "    </tr>\n",
       "    <tr>\n",
       "      <th>15629</th>\n",
       "      <td>(2017 CX1)</td>\n",
       "      <td>4</td>\n",
       "      <td>57800</td>\n",
       "      <td>1.4096</td>\n",
       "      <td>0.2946</td>\n",
       "      <td>3.4011</td>\n",
       "      <td>353.7433</td>\n",
       "      <td>138.1226</td>\n",
       "      <td>8.7456</td>\n",
       "      <td>0.9943</td>\n",
       "      <td>1.82</td>\n",
       "      <td>1.67</td>\n",
       "      <td>0.0092</td>\n",
       "      <td>2</td>\n",
       "      <td>28.21</td>\n",
       "    </tr>\n",
       "    <tr>\n",
       "      <th>15630</th>\n",
       "      <td>(2017 CO5)</td>\n",
       "      <td>0</td>\n",
       "      <td>57789</td>\n",
       "      <td>2.2612</td>\n",
       "      <td>0.4429</td>\n",
       "      <td>28.9728</td>\n",
       "      <td>147.6444</td>\n",
       "      <td>348.1501</td>\n",
       "      <td>5.7171</td>\n",
       "      <td>1.2598</td>\n",
       "      <td>3.26</td>\n",
       "      <td>3.40</td>\n",
       "      <td>0.3136</td>\n",
       "      <td>2</td>\n",
       "      <td>20.04</td>\n",
       "    </tr>\n",
       "    <tr>\n",
       "      <th>15631</th>\n",
       "      <td>(2017 CP5)</td>\n",
       "      <td>0</td>\n",
       "      <td>57800</td>\n",
       "      <td>1.5131</td>\n",
       "      <td>0.3275</td>\n",
       "      <td>14.2656</td>\n",
       "      <td>46.6749</td>\n",
       "      <td>130.7234</td>\n",
       "      <td>344.8663</td>\n",
       "      <td>1.0175</td>\n",
       "      <td>2.01</td>\n",
       "      <td>1.86</td>\n",
       "      <td>0.0934</td>\n",
       "      <td>1</td>\n",
       "      <td>24.74</td>\n",
       "    </tr>\n",
       "    <tr>\n",
       "      <th>15632</th>\n",
       "      <td>(2017 CR5)</td>\n",
       "      <td>4</td>\n",
       "      <td>57793</td>\n",
       "      <td>1.8815</td>\n",
       "      <td>0.4646</td>\n",
       "      <td>7.1647</td>\n",
       "      <td>0.2261</td>\n",
       "      <td>136.7746</td>\n",
       "      <td>1.1654</td>\n",
       "      <td>1.0073</td>\n",
       "      <td>2.76</td>\n",
       "      <td>2.58</td>\n",
       "      <td>0.0213</td>\n",
       "      <td>1</td>\n",
       "      <td>26.95</td>\n",
       "    </tr>\n",
       "    <tr>\n",
       "      <th>15633</th>\n",
       "      <td>(6344 P-L)</td>\n",
       "      <td>5</td>\n",
       "      <td>57800</td>\n",
       "      <td>2.8043</td>\n",
       "      <td>0.6672</td>\n",
       "      <td>4.7249</td>\n",
       "      <td>234.1260</td>\n",
       "      <td>183.5747</td>\n",
       "      <td>349.5302</td>\n",
       "      <td>0.9332</td>\n",
       "      <td>4.68</td>\n",
       "      <td>4.70</td>\n",
       "      <td>0.0288</td>\n",
       "      <td>16</td>\n",
       "      <td>20.40</td>\n",
       "    </tr>\n",
       "  </tbody>\n",
       "</table>\n",
       "<p>15634 rows × 15 columns</p>\n",
       "</div>"
      ],
      "text/plain": [
       "        Object Name  Object Classification  Epoch (TDB)  Orbit Axis (AU)  \\\n",
       "0          433 Eros                      0        57800           1.4579   \n",
       "1        719 Albert                      0        57800           2.6385   \n",
       "2        887 Alinda                      0        57800           2.4787   \n",
       "3      1036 Ganymed                      0        57800           2.6628   \n",
       "4         1221 Amor                      0        57800           1.9191   \n",
       "...             ...                    ...          ...              ...   \n",
       "15629    (2017 CX1)                      4        57800           1.4096   \n",
       "15630    (2017 CO5)                      0        57789           2.2612   \n",
       "15631    (2017 CP5)                      0        57800           1.5131   \n",
       "15632    (2017 CR5)                      4        57793           1.8815   \n",
       "15633    (6344 P-L)                      5        57800           2.8043   \n",
       "\n",
       "       Orbit Eccentricity  Orbit Inclination (deg)  Perihelion Argument (deg)  \\\n",
       "0                  0.2226                  10.8277                   178.8050   \n",
       "1                  0.5479                  11.5822                   156.1409   \n",
       "2                  0.5671                   9.3561                   350.3482   \n",
       "3                  0.5338                  26.6929                   132.4690   \n",
       "4                  0.4356                  11.8795                    26.6572   \n",
       "...                   ...                      ...                        ...   \n",
       "15629              0.2946                   3.4011                   353.7433   \n",
       "15630              0.4429                  28.9728                   147.6444   \n",
       "15631              0.3275                  14.2656                    46.6749   \n",
       "15632              0.4646                   7.1647                     0.2261   \n",
       "15633              0.6672                   4.7249                   234.1260   \n",
       "\n",
       "       Node Longitude (deg)  Mean Anomoly (deg)  Perihelion Distance (AU)  \\\n",
       "0                  304.3265            319.3111                    1.1335   \n",
       "1                  183.9204            224.5535                    1.1928   \n",
       "2                  110.5444            351.3730                    1.0731   \n",
       "3                  215.5551             92.5640                    1.2413   \n",
       "4                  171.3448            313.7379                    1.0832   \n",
       "...                     ...                 ...                       ...   \n",
       "15629              138.1226              8.7456                    0.9943   \n",
       "15630              348.1501              5.7171                    1.2598   \n",
       "15631              130.7234            344.8663                    1.0175   \n",
       "15632              136.7746              1.1654                    1.0073   \n",
       "15633              183.5747            349.5302                    0.9332   \n",
       "\n",
       "       Aphelion Distance (AU)  Orbital Period (yr)  \\\n",
       "0                        1.78                 1.76   \n",
       "1                        4.08                 4.29   \n",
       "2                        3.88                 3.90   \n",
       "3                        4.08                 4.35   \n",
       "4                        2.76                 2.66   \n",
       "...                       ...                  ...   \n",
       "15629                    1.82                 1.67   \n",
       "15630                    3.26                 3.40   \n",
       "15631                    2.01                 1.86   \n",
       "15632                    2.76                 2.58   \n",
       "15633                    4.68                 4.70   \n",
       "\n",
       "       Minimum Orbit Intersection Distance (AU)  Orbital Reference  \\\n",
       "0                                        0.1492                598   \n",
       "1                                        0.2004                 78   \n",
       "2                                        0.0925                188   \n",
       "3                                        0.3421                597   \n",
       "4                                        0.1068                 70   \n",
       "...                                         ...                ...   \n",
       "15629                                    0.0092                  2   \n",
       "15630                                    0.3136                  2   \n",
       "15631                                    0.0934                  1   \n",
       "15632                                    0.0213                  1   \n",
       "15633                                    0.0288                 16   \n",
       "\n",
       "       Asteroid Magnitude  \n",
       "0                   11.16  \n",
       "1                   15.50  \n",
       "2                   13.40  \n",
       "3                    9.45  \n",
       "4                   17.70  \n",
       "...                   ...  \n",
       "15629               28.21  \n",
       "15630               20.04  \n",
       "15631               24.74  \n",
       "15632               26.95  \n",
       "15633               20.40  \n",
       "\n",
       "[15634 rows x 15 columns]"
      ]
     },
     "execution_count": 8,
     "metadata": {},
     "output_type": "execute_result"
    }
   ],
   "source": [
    "label_encoder = LabelEncoder()\n",
    "df['Object Classification'] = label_encoder.fit_transform(df['Object Classification'])\n",
    "df"
   ]
  },
  {
   "cell_type": "code",
   "execution_count": 9,
   "metadata": {
    "id": "nbEAKqtscQnf"
   },
   "outputs": [],
   "source": [
    "df.drop(columns=['Object Name'], inplace=True)"
   ]
  },
  {
   "cell_type": "code",
   "execution_count": 10,
   "metadata": {
    "colab": {
     "base_uri": "https://localhost:8080/",
     "height": 339
    },
    "id": "UHRu4bdGcwPB",
    "outputId": "c8fc14c3-5bae-43ee-c0f0-1a2898d15c14"
   },
   "outputs": [
    {
     "data": {
      "text/html": [
       "<div>\n",
       "<style scoped>\n",
       "    .dataframe tbody tr th:only-of-type {\n",
       "        vertical-align: middle;\n",
       "    }\n",
       "\n",
       "    .dataframe tbody tr th {\n",
       "        vertical-align: top;\n",
       "    }\n",
       "\n",
       "    .dataframe thead th {\n",
       "        text-align: right;\n",
       "    }\n",
       "</style>\n",
       "<table border=\"1\" class=\"dataframe\">\n",
       "  <thead>\n",
       "    <tr style=\"text-align: right;\">\n",
       "      <th></th>\n",
       "      <th>Object Classification</th>\n",
       "      <th>Epoch (TDB)</th>\n",
       "      <th>Orbit Axis (AU)</th>\n",
       "      <th>Orbit Eccentricity</th>\n",
       "      <th>Orbit Inclination (deg)</th>\n",
       "      <th>Perihelion Argument (deg)</th>\n",
       "      <th>Node Longitude (deg)</th>\n",
       "      <th>Mean Anomoly (deg)</th>\n",
       "      <th>Perihelion Distance (AU)</th>\n",
       "      <th>Aphelion Distance (AU)</th>\n",
       "      <th>Orbital Period (yr)</th>\n",
       "      <th>Minimum Orbit Intersection Distance (AU)</th>\n",
       "      <th>Orbital Reference</th>\n",
       "      <th>Asteroid Magnitude</th>\n",
       "    </tr>\n",
       "  </thead>\n",
       "  <tbody>\n",
       "    <tr>\n",
       "      <th>0</th>\n",
       "      <td>0</td>\n",
       "      <td>57800</td>\n",
       "      <td>1.4579</td>\n",
       "      <td>0.2226</td>\n",
       "      <td>10.8277</td>\n",
       "      <td>178.8050</td>\n",
       "      <td>304.3265</td>\n",
       "      <td>319.3111</td>\n",
       "      <td>1.1335</td>\n",
       "      <td>1.78</td>\n",
       "      <td>1.76</td>\n",
       "      <td>0.1492</td>\n",
       "      <td>598</td>\n",
       "      <td>11.16</td>\n",
       "    </tr>\n",
       "    <tr>\n",
       "      <th>1</th>\n",
       "      <td>0</td>\n",
       "      <td>57800</td>\n",
       "      <td>2.6385</td>\n",
       "      <td>0.5479</td>\n",
       "      <td>11.5822</td>\n",
       "      <td>156.1409</td>\n",
       "      <td>183.9204</td>\n",
       "      <td>224.5535</td>\n",
       "      <td>1.1928</td>\n",
       "      <td>4.08</td>\n",
       "      <td>4.29</td>\n",
       "      <td>0.2004</td>\n",
       "      <td>78</td>\n",
       "      <td>15.50</td>\n",
       "    </tr>\n",
       "    <tr>\n",
       "      <th>2</th>\n",
       "      <td>0</td>\n",
       "      <td>57800</td>\n",
       "      <td>2.4787</td>\n",
       "      <td>0.5671</td>\n",
       "      <td>9.3561</td>\n",
       "      <td>350.3482</td>\n",
       "      <td>110.5444</td>\n",
       "      <td>351.3730</td>\n",
       "      <td>1.0731</td>\n",
       "      <td>3.88</td>\n",
       "      <td>3.90</td>\n",
       "      <td>0.0925</td>\n",
       "      <td>188</td>\n",
       "      <td>13.40</td>\n",
       "    </tr>\n",
       "    <tr>\n",
       "      <th>3</th>\n",
       "      <td>0</td>\n",
       "      <td>57800</td>\n",
       "      <td>2.6628</td>\n",
       "      <td>0.5338</td>\n",
       "      <td>26.6929</td>\n",
       "      <td>132.4690</td>\n",
       "      <td>215.5551</td>\n",
       "      <td>92.5640</td>\n",
       "      <td>1.2413</td>\n",
       "      <td>4.08</td>\n",
       "      <td>4.35</td>\n",
       "      <td>0.3421</td>\n",
       "      <td>597</td>\n",
       "      <td>9.45</td>\n",
       "    </tr>\n",
       "    <tr>\n",
       "      <th>4</th>\n",
       "      <td>0</td>\n",
       "      <td>57800</td>\n",
       "      <td>1.9191</td>\n",
       "      <td>0.4356</td>\n",
       "      <td>11.8795</td>\n",
       "      <td>26.6572</td>\n",
       "      <td>171.3448</td>\n",
       "      <td>313.7379</td>\n",
       "      <td>1.0832</td>\n",
       "      <td>2.76</td>\n",
       "      <td>2.66</td>\n",
       "      <td>0.1068</td>\n",
       "      <td>70</td>\n",
       "      <td>17.70</td>\n",
       "    </tr>\n",
       "  </tbody>\n",
       "</table>\n",
       "</div>"
      ],
      "text/plain": [
       "   Object Classification  Epoch (TDB)  Orbit Axis (AU)  Orbit Eccentricity  \\\n",
       "0                      0        57800           1.4579              0.2226   \n",
       "1                      0        57800           2.6385              0.5479   \n",
       "2                      0        57800           2.4787              0.5671   \n",
       "3                      0        57800           2.6628              0.5338   \n",
       "4                      0        57800           1.9191              0.4356   \n",
       "\n",
       "   Orbit Inclination (deg)  Perihelion Argument (deg)  Node Longitude (deg)  \\\n",
       "0                  10.8277                   178.8050              304.3265   \n",
       "1                  11.5822                   156.1409              183.9204   \n",
       "2                   9.3561                   350.3482              110.5444   \n",
       "3                  26.6929                   132.4690              215.5551   \n",
       "4                  11.8795                    26.6572              171.3448   \n",
       "\n",
       "   Mean Anomoly (deg)  Perihelion Distance (AU)  Aphelion Distance (AU)  \\\n",
       "0            319.3111                    1.1335                    1.78   \n",
       "1            224.5535                    1.1928                    4.08   \n",
       "2            351.3730                    1.0731                    3.88   \n",
       "3             92.5640                    1.2413                    4.08   \n",
       "4            313.7379                    1.0832                    2.76   \n",
       "\n",
       "   Orbital Period (yr)  Minimum Orbit Intersection Distance (AU)  \\\n",
       "0                 1.76                                    0.1492   \n",
       "1                 4.29                                    0.2004   \n",
       "2                 3.90                                    0.0925   \n",
       "3                 4.35                                    0.3421   \n",
       "4                 2.66                                    0.1068   \n",
       "\n",
       "   Orbital Reference  Asteroid Magnitude  \n",
       "0                598               11.16  \n",
       "1                 78               15.50  \n",
       "2                188               13.40  \n",
       "3                597                9.45  \n",
       "4                 70               17.70  "
      ]
     },
     "execution_count": 10,
     "metadata": {},
     "output_type": "execute_result"
    }
   ],
   "source": [
    "df.head()"
   ]
  },
  {
   "cell_type": "code",
   "execution_count": 11,
   "metadata": {
    "colab": {
     "base_uri": "https://localhost:8080/",
     "height": 486
    },
    "id": "ze3DXQoTsSqO",
    "outputId": "d46250f7-7c46-4053-8b83-3ef08516da3e"
   },
   "outputs": [
    {
     "data": {
      "text/plain": [
       "<AxesSubplot:>"
      ]
     },
     "execution_count": 11,
     "metadata": {},
     "output_type": "execute_result"
    },
    {
     "data": {
      "image/png": "[encoded data removed]",
      "text/plain": [
       "<Figure size 432x288 with 2 Axes>"
      ]
     },
     "metadata": {
      "needs_background": "light"
     },
     "output_type": "display_data"
    }
   ],
   "source": [
    "sns.heatmap(df.corr())"
   ]
  },
  {
   "cell_type": "markdown",
   "metadata": {},
   "source": [
    "## Model Training"
   ]
  },
  {
   "cell_type": "code",
   "execution_count": 12,
   "metadata": {},
   "outputs": [],
   "source": [
    "from sklearn.ensemble import RandomForestClassifier\n",
    "from sklearn.tree import DecisionTreeClassifier\n",
    "from sklearn.linear_model import LogisticRegression"
   ]
  },
  {
   "cell_type": "code",
   "execution_count": 13,
   "metadata": {
    "colab": {
     "base_uri": "https://localhost:8080/"
    },
    "id": "8zsKYKz-dQxc",
    "outputId": "b5befb74-cb72-4af2-eb63-3d4c87566ff9"
   },
   "outputs": [],
   "source": [
    "X = df.drop(columns='Object Classification')\n",
    "y = df['Object Classification']"
   ]
  },
  {
   "cell_type": "code",
   "execution_count": 14,
   "metadata": {},
   "outputs": [],
   "source": [
    "X_train, X_test, y_train, y_test = train_test_split(X, y, test_size=0.33)"
   ]
  },
  {
   "cell_type": "code",
   "execution_count": 15,
   "metadata": {},
   "outputs": [],
   "source": [
    "rf = RandomForestClassifier()\n",
    "rf.fit(X_train,y_train)\n",
    "y_predrf = rf.predict(X_test)"
   ]
  },
  {
   "cell_type": "code",
   "execution_count": 16,
   "metadata": {
    "id": "wZTcR3zqkYZg"
   },
   "outputs": [],
   "source": [
    "dt = DecisionTreeClassifier()\n",
    "dt.fit(X_train,y_train)\n",
    "y_preddt = dt.predict(X_test)"
   ]
  },
  {
   "cell_type": "markdown",
   "metadata": {},
   "source": [
    "## Model Evaluation"
   ]
  },
  {
   "cell_type": "code",
   "execution_count": 17,
   "metadata": {},
   "outputs": [],
   "source": [
    "from sklearn.metrics import accuracy_score, plot_confusion_matrix, plot_precision_recall_curve"
   ]
  },
  {
   "cell_type": "code",
   "execution_count": 18,
   "metadata": {},
   "outputs": [
    {
     "name": "stdout",
     "output_type": "stream",
     "text": [
      "accuracy Random Forest Classifier: 0.9982558139534884\n",
      "accuracy Decision Tree Classifier : 0.9992248062015504\n"
     ]
    }
   ],
   "source": [
    "print(\"accuracy Random Forest Classifier:\", accuracy_score(y_test, y_predrf))\n",
    "print(\"accuracy Decision Tree Classifier :\", accuracy_score(y_test, y_preddt))"
   ]
  },
  {
   "cell_type": "code",
   "execution_count": 19,
   "metadata": {},
   "outputs": [
    {
     "name": "stdout",
     "output_type": "stream",
     "text": [
      "4    2237\n",
      "0    1967\n",
      "5     532\n",
      "6     335\n",
      "7      51\n",
      "1      33\n",
      "2       3\n",
      "3       2\n",
      "Name: Object Classification, dtype: int64\n"
     ]
    }
   ],
   "source": [
    "print(y_test.value_counts())"
   ]
  },
  {
   "cell_type": "code",
   "execution_count": 20,
   "metadata": {
    "scrolled": true
   },
   "outputs": [
    {
     "data": {
      "text/plain": [
       "<sklearn.metrics._plot.confusion_matrix.ConfusionMatrixDisplay at 0x1a1b4648430>"
      ]
     },
     "execution_count": 20,
     "metadata": {},
     "output_type": "execute_result"
    },
    {
     "data": {
      "image/png": "[encoded data removed]",
      "text/plain": [
       "<Figure size 432x288 with 2 Axes>"
      ]
     },
     "metadata": {
      "needs_background": "light"
     },
     "output_type": "display_data"
    }
   ],
   "source": [
    "plot_confusion_matrix(rf, X_test, y_test)"
   ]
  },
  {
   "cell_type": "code",
   "execution_count": 21,
   "metadata": {},
   "outputs": [
    {
     "data": {
      "text/plain": [
       "<sklearn.metrics._plot.confusion_matrix.ConfusionMatrixDisplay at 0x1a1b4635460>"
      ]
     },
     "execution_count": 21,
     "metadata": {},
     "output_type": "execute_result"
    },
    {
     "data": {
      "image/png": "[encoded data removed]",
      "text/plain": [
       "<Figure size 432x288 with 2 Axes>"
      ]
     },
     "metadata": {
      "needs_background": "light"
     },
     "output_type": "display_data"
    }
   ],
   "source": [
    "plot_confusion_matrix(dt, X_test, y_test)"
   ]
  },
  {
   "cell_type": "markdown",
   "metadata": {},
   "source": [
    "So as we can see decision tree classifier performs better here and gives an accuracy score of 98%"
   ]
  },
  {
   "cell_type": "markdown",
   "metadata": {},
   "source": [
    "## Pickling The Data\n",
    "\n",
    "Since decision tree is the best model out of the 3 we used, we would train it using the whole dataset and pickle our model"
   ]
  },
  {
   "cell_type": "code",
   "execution_count": 27,
   "metadata": {},
   "outputs": [],
   "source": [
    "import pickle "
   ]
  },
  {
   "cell_type": "code",
   "execution_count": 28,
   "metadata": {},
   "outputs": [],
   "source": [
    "X = df.drop(columns='Object Classification')\n",
    "y = df['Object Classification']"
   ]
  },
  {
   "cell_type": "code",
   "execution_count": 29,
   "metadata": {},
   "outputs": [
    {
     "data": {
      "text/plain": [
       "DecisionTreeClassifier()"
      ]
     },
     "execution_count": 29,
     "metadata": {},
     "output_type": "execute_result"
    }
   ],
   "source": [
    "final_model = DecisionTreeClassifier()\n",
    "final_model.fit(X,y)"
   ]
  },
  {
   "cell_type": "code",
   "execution_count": 30,
   "metadata": {},
   "outputs": [],
   "source": [
    "path = '../models/AsteroidClassification.pkl'\n",
    "pickle.dump(final_model, open(path, 'wb'))"
   ]
  }
 ],
 "metadata": {
  "colab": {
   "name": "Untitled0.ipynb",
   "provenance": []
  },
  "kernelspec": {
   "display_name": "Python 3",
   "language": "python",
   "name": "python3"
  },
  "language_info": {
   "codemirror_mode": {
    "name": "ipython",
    "version": 3
   },
   "file_extension": ".py",
   "mimetype": "text/x-python",
   "name": "python",
   "nbconvert_exporter": "python",
   "pygments_lexer": "ipython3",
   "version": "3.8.5"
  }
 },
 "nbformat": 4,
 "nbformat_minor": 1
}
