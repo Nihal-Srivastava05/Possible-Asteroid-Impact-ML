{
 "cells": [
  {
   "cell_type": "code",
   "execution_count": 1,
   "metadata": {
    "id": "iJPxcZnSDUAO"
   },
   "outputs": [],
   "source": [
    "import pandas as pd\n",
    "import numpy as np\n",
    "import matplotlib.pyplot as plt\n",
    "import seaborn as sb\n",
    "import pickle\n",
    "from sklearn.preprocessing import LabelEncoder"
   ]
  },
  {
   "cell_type": "code",
   "execution_count": 2,
   "metadata": {
    "id": "TbutPfyYD4zQ"
   },
   "outputs": [],
   "source": [
    "# df = pd.read_csv('/content/drive/MyDrive/ML_DAC/Project/impacts.csv')\n",
    "df = pd.read_csv('../datasets/final_impact.csv')"
   ]
  },
  {
   "cell_type": "code",
   "execution_count": 3,
   "metadata": {
    "colab": {
     "base_uri": "https://localhost:8080/",
     "height": 302
    },
    "id": "mLUmp_aVEQHb",
    "outputId": "db5b4e7c-aec8-49b5-e47a-0d3bcef15d6b"
   },
   "outputs": [
    {
     "data": {
      "text/html": [
       "<div>\n",
       "<style scoped>\n",
       "    .dataframe tbody tr th:only-of-type {\n",
       "        vertical-align: middle;\n",
       "    }\n",
       "\n",
       "    .dataframe tbody tr th {\n",
       "        vertical-align: top;\n",
       "    }\n",
       "\n",
       "    .dataframe thead th {\n",
       "        text-align: right;\n",
       "    }\n",
       "</style>\n",
       "<table border=\"1\" class=\"dataframe\">\n",
       "  <thead>\n",
       "    <tr style=\"text-align: right;\">\n",
       "      <th></th>\n",
       "      <th>Object Name</th>\n",
       "      <th>Period Start</th>\n",
       "      <th>Period End</th>\n",
       "      <th>Possible Impacts</th>\n",
       "      <th>Cumulative Impact Probability</th>\n",
       "      <th>Asteroid Velocity</th>\n",
       "      <th>Asteroid Magnitude</th>\n",
       "      <th>Asteroid Diameter (km)</th>\n",
       "      <th>Cumulative Palermo Scale</th>\n",
       "      <th>Maximum Palermo Scale</th>\n",
       "      <th>Maximum Torino Scale</th>\n",
       "    </tr>\n",
       "  </thead>\n",
       "  <tbody>\n",
       "    <tr>\n",
       "      <th>0</th>\n",
       "      <td>2006 WP1</td>\n",
       "      <td>2017</td>\n",
       "      <td>2017</td>\n",
       "      <td>1</td>\n",
       "      <td>5.200000e-09</td>\n",
       "      <td>17.77</td>\n",
       "      <td>28.3</td>\n",
       "      <td>0.007</td>\n",
       "      <td>-8.31</td>\n",
       "      <td>-8.31</td>\n",
       "      <td>0</td>\n",
       "    </tr>\n",
       "    <tr>\n",
       "      <th>1</th>\n",
       "      <td>2013 YB</td>\n",
       "      <td>2017</td>\n",
       "      <td>2046</td>\n",
       "      <td>23</td>\n",
       "      <td>7.600000e-05</td>\n",
       "      <td>8.98</td>\n",
       "      <td>31.4</td>\n",
       "      <td>0.002</td>\n",
       "      <td>-6.60</td>\n",
       "      <td>-6.96</td>\n",
       "      <td>0</td>\n",
       "    </tr>\n",
       "    <tr>\n",
       "      <th>2</th>\n",
       "      <td>2008 US</td>\n",
       "      <td>2017</td>\n",
       "      <td>2062</td>\n",
       "      <td>30</td>\n",
       "      <td>1.600000e-05</td>\n",
       "      <td>18.33</td>\n",
       "      <td>31.4</td>\n",
       "      <td>0.002</td>\n",
       "      <td>-6.48</td>\n",
       "      <td>-6.87</td>\n",
       "      <td>0</td>\n",
       "    </tr>\n",
       "    <tr>\n",
       "      <th>3</th>\n",
       "      <td>2010 VR139</td>\n",
       "      <td>2017</td>\n",
       "      <td>2076</td>\n",
       "      <td>24</td>\n",
       "      <td>2.000000e-07</td>\n",
       "      <td>4.99</td>\n",
       "      <td>26.7</td>\n",
       "      <td>0.016</td>\n",
       "      <td>-6.83</td>\n",
       "      <td>-6.95</td>\n",
       "      <td>0</td>\n",
       "    </tr>\n",
       "    <tr>\n",
       "      <th>4</th>\n",
       "      <td>2015 ME131</td>\n",
       "      <td>2017</td>\n",
       "      <td>2096</td>\n",
       "      <td>85</td>\n",
       "      <td>2.300000e-08</td>\n",
       "      <td>19.46</td>\n",
       "      <td>19.2</td>\n",
       "      <td>0.497</td>\n",
       "      <td>-3.85</td>\n",
       "      <td>-4.30</td>\n",
       "      <td>0</td>\n",
       "    </tr>\n",
       "  </tbody>\n",
       "</table>\n",
       "</div>"
      ],
      "text/plain": [
       "  Object Name  Period Start  Period End  Possible Impacts  \\\n",
       "0    2006 WP1          2017        2017                 1   \n",
       "1     2013 YB          2017        2046                23   \n",
       "2     2008 US          2017        2062                30   \n",
       "3  2010 VR139          2017        2076                24   \n",
       "4  2015 ME131          2017        2096                85   \n",
       "\n",
       "   Cumulative Impact Probability  Asteroid Velocity  Asteroid Magnitude  \\\n",
       "0                   5.200000e-09              17.77                28.3   \n",
       "1                   7.600000e-05               8.98                31.4   \n",
       "2                   1.600000e-05              18.33                31.4   \n",
       "3                   2.000000e-07               4.99                26.7   \n",
       "4                   2.300000e-08              19.46                19.2   \n",
       "\n",
       "   Asteroid Diameter (km)  Cumulative Palermo Scale  Maximum Palermo Scale  \\\n",
       "0                   0.007                     -8.31                  -8.31   \n",
       "1                   0.002                     -6.60                  -6.96   \n",
       "2                   0.002                     -6.48                  -6.87   \n",
       "3                   0.016                     -6.83                  -6.95   \n",
       "4                   0.497                     -3.85                  -4.30   \n",
       "\n",
       "   Maximum Torino Scale  \n",
       "0                     0  \n",
       "1                     0  \n",
       "2                     0  \n",
       "3                     0  \n",
       "4                     0  "
      ]
     },
     "execution_count": 3,
     "metadata": {},
     "output_type": "execute_result"
    }
   ],
   "source": [
    "df.head()"
   ]
  },
  {
   "cell_type": "code",
   "execution_count": 4,
   "metadata": {
    "colab": {
     "base_uri": "https://localhost:8080/"
    },
    "id": "0TsSe8rgERT5",
    "outputId": "9540678d-13fd-4ebc-d4fa-1ea6c2df3e79"
   },
   "outputs": [
    {
     "data": {
      "text/plain": [
       "(683, 11)"
      ]
     },
     "execution_count": 4,
     "metadata": {},
     "output_type": "execute_result"
    }
   ],
   "source": [
    "df.shape"
   ]
  },
  {
   "cell_type": "code",
   "execution_count": 5,
   "metadata": {},
   "outputs": [
    {
     "name": "stdout",
     "output_type": "stream",
     "text": [
      "<class 'pandas.core.frame.DataFrame'>\n",
      "RangeIndex: 683 entries, 0 to 682\n",
      "Data columns (total 11 columns):\n",
      " #   Column                         Non-Null Count  Dtype  \n",
      "---  ------                         --------------  -----  \n",
      " 0   Object Name                    683 non-null    object \n",
      " 1   Period Start                   683 non-null    int64  \n",
      " 2   Period End                     683 non-null    int64  \n",
      " 3   Possible Impacts               683 non-null    int64  \n",
      " 4   Cumulative Impact Probability  683 non-null    float64\n",
      " 5   Asteroid Velocity              683 non-null    float64\n",
      " 6   Asteroid Magnitude             683 non-null    float64\n",
      " 7   Asteroid Diameter (km)         683 non-null    float64\n",
      " 8   Cumulative Palermo Scale       683 non-null    float64\n",
      " 9   Maximum Palermo Scale          683 non-null    float64\n",
      " 10  Maximum Torino Scale           683 non-null    int64  \n",
      "dtypes: float64(6), int64(4), object(1)\n",
      "memory usage: 58.8+ KB\n"
     ]
    }
   ],
   "source": [
    "df.info()"
   ]
  },
  {
   "cell_type": "code",
   "execution_count": 6,
   "metadata": {},
   "outputs": [
    {
     "data": {
      "text/html": [
       "<div>\n",
       "<style scoped>\n",
       "    .dataframe tbody tr th:only-of-type {\n",
       "        vertical-align: middle;\n",
       "    }\n",
       "\n",
       "    .dataframe tbody tr th {\n",
       "        vertical-align: top;\n",
       "    }\n",
       "\n",
       "    .dataframe thead th {\n",
       "        text-align: right;\n",
       "    }\n",
       "</style>\n",
       "<table border=\"1\" class=\"dataframe\">\n",
       "  <thead>\n",
       "    <tr style=\"text-align: right;\">\n",
       "      <th></th>\n",
       "      <th>Period Start</th>\n",
       "      <th>Period End</th>\n",
       "      <th>Possible Impacts</th>\n",
       "      <th>Cumulative Impact Probability</th>\n",
       "      <th>Asteroid Velocity</th>\n",
       "      <th>Asteroid Magnitude</th>\n",
       "      <th>Asteroid Diameter (km)</th>\n",
       "      <th>Cumulative Palermo Scale</th>\n",
       "      <th>Maximum Palermo Scale</th>\n",
       "      <th>Maximum Torino Scale</th>\n",
       "    </tr>\n",
       "  </thead>\n",
       "  <tbody>\n",
       "    <tr>\n",
       "      <th>count</th>\n",
       "      <td>683.000000</td>\n",
       "      <td>683.000000</td>\n",
       "      <td>683.000000</td>\n",
       "      <td>6.830000e+02</td>\n",
       "      <td>683.000000</td>\n",
       "      <td>683.000000</td>\n",
       "      <td>683.000000</td>\n",
       "      <td>683.000000</td>\n",
       "      <td>683.000000</td>\n",
       "      <td>683.000000</td>\n",
       "    </tr>\n",
       "    <tr>\n",
       "      <th>mean</th>\n",
       "      <td>2062.573939</td>\n",
       "      <td>2099.680820</td>\n",
       "      <td>43.348463</td>\n",
       "      <td>1.539476e-04</td>\n",
       "      <td>11.462577</td>\n",
       "      <td>26.158272</td>\n",
       "      <td>0.049378</td>\n",
       "      <td>-6.511552</td>\n",
       "      <td>-6.804012</td>\n",
       "      <td>0.004392</td>\n",
       "    </tr>\n",
       "    <tr>\n",
       "      <th>std</th>\n",
       "      <td>43.501694</td>\n",
       "      <td>37.594698</td>\n",
       "      <td>113.773280</td>\n",
       "      <td>2.519607e-03</td>\n",
       "      <td>6.067772</td>\n",
       "      <td>2.388296</td>\n",
       "      <td>0.156403</td>\n",
       "      <td>1.509189</td>\n",
       "      <td>1.476135</td>\n",
       "      <td>0.066178</td>\n",
       "    </tr>\n",
       "    <tr>\n",
       "      <th>min</th>\n",
       "      <td>2017.000000</td>\n",
       "      <td>2017.000000</td>\n",
       "      <td>1.000000</td>\n",
       "      <td>1.100000e-10</td>\n",
       "      <td>0.340000</td>\n",
       "      <td>15.600000</td>\n",
       "      <td>0.002000</td>\n",
       "      <td>-10.980000</td>\n",
       "      <td>-11.000000</td>\n",
       "      <td>0.000000</td>\n",
       "    </tr>\n",
       "    <tr>\n",
       "      <th>25%</th>\n",
       "      <td>2034.000000</td>\n",
       "      <td>2090.000000</td>\n",
       "      <td>2.000000</td>\n",
       "      <td>1.100000e-07</td>\n",
       "      <td>7.240000</td>\n",
       "      <td>25.000000</td>\n",
       "      <td>0.010000</td>\n",
       "      <td>-7.490000</td>\n",
       "      <td>-7.790000</td>\n",
       "      <td>0.000000</td>\n",
       "    </tr>\n",
       "    <tr>\n",
       "      <th>50%</th>\n",
       "      <td>2061.000000</td>\n",
       "      <td>2109.000000</td>\n",
       "      <td>6.000000</td>\n",
       "      <td>1.700000e-06</td>\n",
       "      <td>10.500000</td>\n",
       "      <td>26.400000</td>\n",
       "      <td>0.017000</td>\n",
       "      <td>-6.460000</td>\n",
       "      <td>-6.790000</td>\n",
       "      <td>0.000000</td>\n",
       "    </tr>\n",
       "    <tr>\n",
       "      <th>75%</th>\n",
       "      <td>2085.000000</td>\n",
       "      <td>2114.000000</td>\n",
       "      <td>29.000000</td>\n",
       "      <td>1.550000e-05</td>\n",
       "      <td>14.810000</td>\n",
       "      <td>27.800000</td>\n",
       "      <td>0.033000</td>\n",
       "      <td>-5.490000</td>\n",
       "      <td>-5.865000</td>\n",
       "      <td>0.000000</td>\n",
       "    </tr>\n",
       "    <tr>\n",
       "      <th>max</th>\n",
       "      <td>2880.000000</td>\n",
       "      <td>2880.000000</td>\n",
       "      <td>1144.000000</td>\n",
       "      <td>6.500000e-02</td>\n",
       "      <td>39.470000</td>\n",
       "      <td>31.600000</td>\n",
       "      <td>2.579000</td>\n",
       "      <td>-1.420000</td>\n",
       "      <td>-1.420000</td>\n",
       "      <td>1.000000</td>\n",
       "    </tr>\n",
       "  </tbody>\n",
       "</table>\n",
       "</div>"
      ],
      "text/plain": [
       "       Period Start   Period End  Possible Impacts  \\\n",
       "count    683.000000   683.000000        683.000000   \n",
       "mean    2062.573939  2099.680820         43.348463   \n",
       "std       43.501694    37.594698        113.773280   \n",
       "min     2017.000000  2017.000000          1.000000   \n",
       "25%     2034.000000  2090.000000          2.000000   \n",
       "50%     2061.000000  2109.000000          6.000000   \n",
       "75%     2085.000000  2114.000000         29.000000   \n",
       "max     2880.000000  2880.000000       1144.000000   \n",
       "\n",
       "       Cumulative Impact Probability  Asteroid Velocity  Asteroid Magnitude  \\\n",
       "count                   6.830000e+02         683.000000          683.000000   \n",
       "mean                    1.539476e-04          11.462577           26.158272   \n",
       "std                     2.519607e-03           6.067772            2.388296   \n",
       "min                     1.100000e-10           0.340000           15.600000   \n",
       "25%                     1.100000e-07           7.240000           25.000000   \n",
       "50%                     1.700000e-06          10.500000           26.400000   \n",
       "75%                     1.550000e-05          14.810000           27.800000   \n",
       "max                     6.500000e-02          39.470000           31.600000   \n",
       "\n",
       "       Asteroid Diameter (km)  Cumulative Palermo Scale  \\\n",
       "count              683.000000                683.000000   \n",
       "mean                 0.049378                 -6.511552   \n",
       "std                  0.156403                  1.509189   \n",
       "min                  0.002000                -10.980000   \n",
       "25%                  0.010000                 -7.490000   \n",
       "50%                  0.017000                 -6.460000   \n",
       "75%                  0.033000                 -5.490000   \n",
       "max                  2.579000                 -1.420000   \n",
       "\n",
       "       Maximum Palermo Scale  Maximum Torino Scale  \n",
       "count             683.000000            683.000000  \n",
       "mean               -6.804012              0.004392  \n",
       "std                 1.476135              0.066178  \n",
       "min               -11.000000              0.000000  \n",
       "25%                -7.790000              0.000000  \n",
       "50%                -6.790000              0.000000  \n",
       "75%                -5.865000              0.000000  \n",
       "max                -1.420000              1.000000  "
      ]
     },
     "execution_count": 6,
     "metadata": {},
     "output_type": "execute_result"
    }
   ],
   "source": [
    "df.describe()"
   ]
  },
  {
   "cell_type": "code",
   "execution_count": 7,
   "metadata": {
    "colab": {
     "base_uri": "https://localhost:8080/"
    },
    "id": "syOn9vpePEwk",
    "outputId": "73c25b49-295b-446e-f1b6-c7a71367cb21",
    "scrolled": true
   },
   "outputs": [
    {
     "data": {
      "text/plain": [
       "Object Name                      0\n",
       "Period Start                     0\n",
       "Period End                       0\n",
       "Possible Impacts                 0\n",
       "Cumulative Impact Probability    0\n",
       "Asteroid Velocity                0\n",
       "Asteroid Magnitude               0\n",
       "Asteroid Diameter (km)           0\n",
       "Cumulative Palermo Scale         0\n",
       "Maximum Palermo Scale            0\n",
       "Maximum Torino Scale             0\n",
       "dtype: int64"
      ]
     },
     "execution_count": 7,
     "metadata": {},
     "output_type": "execute_result"
    }
   ],
   "source": [
    "df.isnull().sum()"
   ]
  },
  {
   "cell_type": "code",
   "execution_count": 8,
   "metadata": {
    "colab": {
     "base_uri": "https://localhost:8080/"
    },
    "id": "mDj2Pe_lUSZ4",
    "outputId": "a31a63cf-51b1-4c22-8aa1-65930e86786e"
   },
   "outputs": [
    {
     "name": "stdout",
     "output_type": "stream",
     "text": [
      "683\n"
     ]
    }
   ],
   "source": [
    "print(df['Object Name'].nunique())"
   ]
  },
  {
   "cell_type": "code",
   "execution_count": 9,
   "metadata": {
    "id": "Oxbjqo7mYIhu"
   },
   "outputs": [],
   "source": [
    "df.drop(columns=['Object Name'],inplace=True)"
   ]
  },
  {
   "cell_type": "code",
   "execution_count": 10,
   "metadata": {
    "colab": {
     "base_uri": "https://localhost:8080/",
     "height": 268
    },
    "id": "iUxgQZH9YRNC",
    "outputId": "284f62b6-8a89-4bab-b086-53c99e24aeb6"
   },
   "outputs": [
    {
     "data": {
      "text/html": [
       "<div>\n",
       "<style scoped>\n",
       "    .dataframe tbody tr th:only-of-type {\n",
       "        vertical-align: middle;\n",
       "    }\n",
       "\n",
       "    .dataframe tbody tr th {\n",
       "        vertical-align: top;\n",
       "    }\n",
       "\n",
       "    .dataframe thead th {\n",
       "        text-align: right;\n",
       "    }\n",
       "</style>\n",
       "<table border=\"1\" class=\"dataframe\">\n",
       "  <thead>\n",
       "    <tr style=\"text-align: right;\">\n",
       "      <th></th>\n",
       "      <th>Period Start</th>\n",
       "      <th>Period End</th>\n",
       "      <th>Possible Impacts</th>\n",
       "      <th>Cumulative Impact Probability</th>\n",
       "      <th>Asteroid Velocity</th>\n",
       "      <th>Asteroid Magnitude</th>\n",
       "      <th>Asteroid Diameter (km)</th>\n",
       "      <th>Cumulative Palermo Scale</th>\n",
       "      <th>Maximum Palermo Scale</th>\n",
       "      <th>Maximum Torino Scale</th>\n",
       "    </tr>\n",
       "  </thead>\n",
       "  <tbody>\n",
       "    <tr>\n",
       "      <th>0</th>\n",
       "      <td>2017</td>\n",
       "      <td>2017</td>\n",
       "      <td>1</td>\n",
       "      <td>5.200000e-09</td>\n",
       "      <td>17.77</td>\n",
       "      <td>28.3</td>\n",
       "      <td>0.007</td>\n",
       "      <td>-8.31</td>\n",
       "      <td>-8.31</td>\n",
       "      <td>0</td>\n",
       "    </tr>\n",
       "    <tr>\n",
       "      <th>1</th>\n",
       "      <td>2017</td>\n",
       "      <td>2046</td>\n",
       "      <td>23</td>\n",
       "      <td>7.600000e-05</td>\n",
       "      <td>8.98</td>\n",
       "      <td>31.4</td>\n",
       "      <td>0.002</td>\n",
       "      <td>-6.60</td>\n",
       "      <td>-6.96</td>\n",
       "      <td>0</td>\n",
       "    </tr>\n",
       "    <tr>\n",
       "      <th>2</th>\n",
       "      <td>2017</td>\n",
       "      <td>2062</td>\n",
       "      <td>30</td>\n",
       "      <td>1.600000e-05</td>\n",
       "      <td>18.33</td>\n",
       "      <td>31.4</td>\n",
       "      <td>0.002</td>\n",
       "      <td>-6.48</td>\n",
       "      <td>-6.87</td>\n",
       "      <td>0</td>\n",
       "    </tr>\n",
       "    <tr>\n",
       "      <th>3</th>\n",
       "      <td>2017</td>\n",
       "      <td>2076</td>\n",
       "      <td>24</td>\n",
       "      <td>2.000000e-07</td>\n",
       "      <td>4.99</td>\n",
       "      <td>26.7</td>\n",
       "      <td>0.016</td>\n",
       "      <td>-6.83</td>\n",
       "      <td>-6.95</td>\n",
       "      <td>0</td>\n",
       "    </tr>\n",
       "    <tr>\n",
       "      <th>4</th>\n",
       "      <td>2017</td>\n",
       "      <td>2096</td>\n",
       "      <td>85</td>\n",
       "      <td>2.300000e-08</td>\n",
       "      <td>19.46</td>\n",
       "      <td>19.2</td>\n",
       "      <td>0.497</td>\n",
       "      <td>-3.85</td>\n",
       "      <td>-4.30</td>\n",
       "      <td>0</td>\n",
       "    </tr>\n",
       "  </tbody>\n",
       "</table>\n",
       "</div>"
      ],
      "text/plain": [
       "   Period Start  Period End  Possible Impacts  Cumulative Impact Probability  \\\n",
       "0          2017        2017                 1                   5.200000e-09   \n",
       "1          2017        2046                23                   7.600000e-05   \n",
       "2          2017        2062                30                   1.600000e-05   \n",
       "3          2017        2076                24                   2.000000e-07   \n",
       "4          2017        2096                85                   2.300000e-08   \n",
       "\n",
       "   Asteroid Velocity  Asteroid Magnitude  Asteroid Diameter (km)  \\\n",
       "0              17.77                28.3                   0.007   \n",
       "1               8.98                31.4                   0.002   \n",
       "2              18.33                31.4                   0.002   \n",
       "3               4.99                26.7                   0.016   \n",
       "4              19.46                19.2                   0.497   \n",
       "\n",
       "   Cumulative Palermo Scale  Maximum Palermo Scale  Maximum Torino Scale  \n",
       "0                     -8.31                  -8.31                     0  \n",
       "1                     -6.60                  -6.96                     0  \n",
       "2                     -6.48                  -6.87                     0  \n",
       "3                     -6.83                  -6.95                     0  \n",
       "4                     -3.85                  -4.30                     0  "
      ]
     },
     "execution_count": 10,
     "metadata": {},
     "output_type": "execute_result"
    }
   ],
   "source": [
    "df.head()"
   ]
  },
  {
   "cell_type": "code",
   "execution_count": 11,
   "metadata": {
    "colab": {
     "base_uri": "https://localhost:8080/",
     "height": 268
    },
    "id": "H27i5GhjYbcK",
    "outputId": "91f6a2b5-842e-4782-a025-bb3d6986c650"
   },
   "outputs": [],
   "source": [
    "# le = LabelEncoder()\n",
    "# df['Cumulative Impact Probability'] =  le.fit_transform(df['Cumulative Impact Probability'])\n",
    "# df.head()"
   ]
  },
  {
   "cell_type": "code",
   "execution_count": 13,
   "metadata": {
    "colab": {
     "base_uri": "https://localhost:8080/"
    },
    "id": "JFu8LK42ebqc",
    "outputId": "049c97f9-7be4-4822-fc8c-9e61de614c20",
    "scrolled": true
   },
   "outputs": [
    {
     "data": {
      "text/plain": [
       "Period Start                     102\n",
       "Period End                        93\n",
       "Possible Impacts                 140\n",
       "Cumulative Impact Probability    340\n",
       "Asteroid Velocity                571\n",
       "Asteroid Magnitude               118\n",
       "Asteroid Diameter (km)           122\n",
       "Cumulative Palermo Scale         392\n",
       "Maximum Palermo Scale            378\n",
       "Maximum Torino Scale               2\n",
       "dtype: int64"
      ]
     },
     "execution_count": 13,
     "metadata": {},
     "output_type": "execute_result"
    }
   ],
   "source": [
    "df.nunique()"
   ]
  },
  {
   "cell_type": "code",
   "execution_count": 16,
   "metadata": {
    "colab": {
     "base_uri": "https://localhost:8080/",
     "height": 427
    },
    "id": "RqasNyTXst4f",
    "outputId": "2338843b-7f7b-4cbe-ffdd-eb6e17ce2720"
   },
   "outputs": [
    {
     "data": {
      "text/plain": [
       "<AxesSubplot:>"
      ]
     },
     "execution_count": 16,
     "metadata": {},
     "output_type": "execute_result"
    },
    {
     "data": {
      "image/png": "[encoded data removed]",
      "text/plain": [
       "<Figure size 576x576 with 2 Axes>"
      ]
     },
     "metadata": {
      "needs_background": "light"
     },
     "output_type": "display_data"
    }
   ],
   "source": [
    "plt.figure(figsize=(8, 8))\n",
    "sb.heatmap(df.corr(), annot=True)"
   ]
  },
  {
   "cell_type": "markdown",
   "metadata": {},
   "source": [
    "## Model training"
   ]
  },
  {
   "cell_type": "code",
   "execution_count": 31,
   "metadata": {
    "colab": {
     "base_uri": "https://localhost:8080/"
    },
    "id": "yi7IaSoGgnOk",
    "outputId": "26894782-4b10-4186-b656-8738d352c910"
   },
   "outputs": [],
   "source": [
    "from sklearn.model_selection import train_test_split\n",
    "from sklearn.preprocessing import StandardScaler"
   ]
  },
  {
   "cell_type": "code",
   "execution_count": 20,
   "metadata": {},
   "outputs": [],
   "source": [
    "X = df.drop(columns='Possible Impacts')\n",
    "y = df['Possible Impacts']"
   ]
  },
  {
   "cell_type": "code",
   "execution_count": 54,
   "metadata": {},
   "outputs": [],
   "source": [
    "X_train, X_test, y_train, y_test = train_test_split(X, y, test_size=0.33)"
   ]
  },
  {
   "cell_type": "code",
   "execution_count": 56,
   "metadata": {},
   "outputs": [
    {
     "data": {
      "text/plain": [
       "StandardScaler()"
      ]
     },
     "execution_count": 56,
     "metadata": {},
     "output_type": "execute_result"
    }
   ],
   "source": [
    "scaler = StandardScaler()\n",
    "scaler.fit(X_train)"
   ]
  },
  {
   "cell_type": "code",
   "execution_count": 57,
   "metadata": {},
   "outputs": [],
   "source": [
    "X_train = scaler.transform(X_train)\n",
    "X_test = scaler.transform(X_test)"
   ]
  },
  {
   "cell_type": "code",
   "execution_count": 36,
   "metadata": {},
   "outputs": [],
   "source": [
    "from sklearn.ensemble import RandomForestRegressor\n",
    "from sklearn.linear_model import LinearRegression, ElasticNet\n",
    "from sklearn.svm import SVR\n",
    "from sklearn.model_selection import GridSearchCV"
   ]
  },
  {
   "cell_type": "markdown",
   "metadata": {},
   "source": [
    "Random Forest Regressor"
   ]
  },
  {
   "cell_type": "code",
   "execution_count": 46,
   "metadata": {},
   "outputs": [],
   "source": [
    "rf = RandomForestRegressor()\n",
    "rf.fit(X_train,y_train)\n",
    "y_pred_rf = rf.predict(X_test)"
   ]
  },
  {
   "cell_type": "markdown",
   "metadata": {},
   "source": [
    "Linear Regression"
   ]
  },
  {
   "cell_type": "code",
   "execution_count": 47,
   "metadata": {},
   "outputs": [],
   "source": [
    "lr = LinearRegression()\n",
    "lr.fit(X_train, y_train)\n",
    "y_pred_lr = lr.predict(X_test)"
   ]
  },
  {
   "cell_type": "markdown",
   "metadata": {},
   "source": [
    "Hyperparameter tunning - Elastic Net"
   ]
  },
  {
   "cell_type": "code",
   "execution_count": 65,
   "metadata": {},
   "outputs": [
    {
     "name": "stdout",
     "output_type": "stream",
     "text": [
      "Fitting 5 folds for each of 36 candidates, totalling 180 fits\n"
     ]
    },
    {
     "data": {
      "text/plain": [
       "{'alpha': 0.05, 'l1_ratio': 1}"
      ]
     },
     "execution_count": 65,
     "metadata": {},
     "output_type": "execute_result"
    }
   ],
   "source": [
    "base_model = ElasticNet()\n",
    "param_grid = {'alpha':[0.0001, 0.001, 0.01, 0.05, 0.1, 1],\n",
    "              'l1_ratio':[.1, .5, .7, .9, .99, 1]}\n",
    "grid_model = GridSearchCV(estimator=base_model, param_grid=param_grid, scoring='neg_mean_squared_error', cv=5, verbose=1)\n",
    "grid_model.fit(X_train, y_train)\n",
    "grid_model.best_params_"
   ]
  },
  {
   "cell_type": "code",
   "execution_count": 66,
   "metadata": {},
   "outputs": [],
   "source": [
    "elasticNet = ElasticNet(alpha=0.05, l1_ratio=1)\n",
    "elasticNet.fit(X_train, y_train)\n",
    "y_pred_en = elasticNet.predict(X_test)"
   ]
  },
  {
   "cell_type": "markdown",
   "metadata": {},
   "source": [
    "## Model Evaluation"
   ]
  },
  {
   "cell_type": "code",
   "execution_count": 43,
   "metadata": {},
   "outputs": [],
   "source": [
    "from sklearn.metrics import r2_score, mean_absolute_error, mean_squared_error"
   ]
  },
  {
   "cell_type": "code",
   "execution_count": 44,
   "metadata": {},
   "outputs": [
    {
     "data": {
      "text/plain": [
       "44.77433628318584"
      ]
     },
     "execution_count": 44,
     "metadata": {},
     "output_type": "execute_result"
    }
   ],
   "source": [
    "y_test.mean()"
   ]
  },
  {
   "cell_type": "code",
   "execution_count": 51,
   "metadata": {},
   "outputs": [
    {
     "name": "stdout",
     "output_type": "stream",
     "text": [
      "MAE of RandomForestRegressor: 32.701991150442474\n",
      "RMSE of RandomForestRegressor: 83.78380162419087\n",
      "R2 score of RandomForestRegressor: 0.4677793622457057\n"
     ]
    }
   ],
   "source": [
    "print(\"MAE of RandomForestRegressor:\", mean_absolute_error(y_test, y_pred_rf))\n",
    "print(\"RMSE of RandomForestRegressor:\", np.sqrt(mean_squared_error(y_test, y_pred_rf)))\n",
    "print(\"R2 score of RandomForestRegressor:\", r2_score(y_test, y_pred_rf))"
   ]
  },
  {
   "cell_type": "code",
   "execution_count": 52,
   "metadata": {},
   "outputs": [
    {
     "name": "stdout",
     "output_type": "stream",
     "text": [
      "MAE of LinearRegression: 52.03921955629208\n",
      "RMSE of LinearRegression: 86.38023361968072\n",
      "R2 score of LinearRegression: 0.43428155998233586\n"
     ]
    }
   ],
   "source": [
    "print(\"MAE of LinearRegression:\", mean_absolute_error(y_test, y_pred_lr))\n",
    "print(\"RMSE of LinearRegression:\", np.sqrt(mean_squared_error(y_test, y_pred_lr)))\n",
    "print(\"R2 score of LinearRegression:\", r2_score(y_test, y_pred_lr))"
   ]
  },
  {
   "cell_type": "code",
   "execution_count": 73,
   "metadata": {},
   "outputs": [
    {
     "data": {
      "text/plain": [
       "[<matplotlib.lines.Line2D at 0x1d78d8c21c0>]"
      ]
     },
     "execution_count": 73,
     "metadata": {},
     "output_type": "execute_result"
    },
    {
     "data": {
      "image/png": "[encoded data removed]",
      "text/plain": [
       "<Figure size 432x288 with 1 Axes>"
      ]
     },
     "metadata": {
      "needs_background": "light"
     },
     "output_type": "display_data"
    }
   ],
   "source": [
    "plt.scatter(y_pred_lr, y_test)\n",
    "m, b = np.polyfit(y_pred_lr, y_test, 1)\n",
    "plt.plot(y_pred_lr, m*y_pred_lr + b)"
   ]
  },
  {
   "cell_type": "code",
   "execution_count": 72,
   "metadata": {},
   "outputs": [
    {
     "name": "stdout",
     "output_type": "stream",
     "text": [
      "MAE of ElasticNet: 48.535461612088135\n",
      "RMSE of ElasticNet: 79.00592422099777\n",
      "R2 score of ElasticNet: 0.2472084216034156\n"
     ]
    }
   ],
   "source": [
    "print(\"MAE of ElasticNet:\", mean_absolute_error(y_test, y_pred_en))\n",
    "print(\"RMSE of ElasticNet:\", np.sqrt(mean_squared_error(y_test, y_pred_en)))\n",
    "print(\"R2 score of ElasticNet:\", r2_score(y_test, y_pred_en))"
   ]
  },
  {
   "cell_type": "code",
   "execution_count": 70,
   "metadata": {},
   "outputs": [
    {
     "data": {
      "text/plain": [
       "[<matplotlib.lines.Line2D at 0x1d78d706e80>]"
      ]
     },
     "execution_count": 70,
     "metadata": {},
     "output_type": "execute_result"
    },
    {
     "data": {
      "image/png": "[encoded data removed]",
      "text/plain": [
       "<Figure size 432x288 with 1 Axes>"
      ]
     },
     "metadata": {
      "needs_background": "light"
     },
     "output_type": "display_data"
    }
   ],
   "source": [
    "plt.scatter(y_pred_en, y_test)\n",
    "m, b = np.polyfit(y_pred_en, y_test, 1)\n",
    "plt.plot(y_pred_en, m*y_pred_en + b)"
   ]
  },
  {
   "cell_type": "markdown",
   "metadata": {},
   "source": [
    "## Polynominal features"
   ]
  },
  {
   "cell_type": "code",
   "execution_count": 17,
   "metadata": {},
   "outputs": [],
   "source": [
    "from sklearn.preprocessing import PolynomialFeatures"
   ]
  },
  {
   "cell_type": "code",
   "execution_count": 21,
   "metadata": {},
   "outputs": [
    {
     "data": {
      "text/html": [
       "<div>\n",
       "<style scoped>\n",
       "    .dataframe tbody tr th:only-of-type {\n",
       "        vertical-align: middle;\n",
       "    }\n",
       "\n",
       "    .dataframe tbody tr th {\n",
       "        vertical-align: top;\n",
       "    }\n",
       "\n",
       "    .dataframe thead th {\n",
       "        text-align: right;\n",
       "    }\n",
       "</style>\n",
       "<table border=\"1\" class=\"dataframe\">\n",
       "  <thead>\n",
       "    <tr style=\"text-align: right;\">\n",
       "      <th></th>\n",
       "      <th>Period Start</th>\n",
       "      <th>Period End</th>\n",
       "      <th>Cumulative Impact Probability</th>\n",
       "      <th>Asteroid Velocity</th>\n",
       "      <th>Asteroid Magnitude</th>\n",
       "      <th>Asteroid Diameter (km)</th>\n",
       "      <th>Cumulative Palermo Scale</th>\n",
       "      <th>Maximum Palermo Scale</th>\n",
       "      <th>Maximum Torino Scale</th>\n",
       "    </tr>\n",
       "  </thead>\n",
       "  <tbody>\n",
       "    <tr>\n",
       "      <th>0</th>\n",
       "      <td>2017</td>\n",
       "      <td>2017</td>\n",
       "      <td>5.200000e-09</td>\n",
       "      <td>17.77</td>\n",
       "      <td>28.3</td>\n",
       "      <td>0.007</td>\n",
       "      <td>-8.31</td>\n",
       "      <td>-8.31</td>\n",
       "      <td>0</td>\n",
       "    </tr>\n",
       "    <tr>\n",
       "      <th>1</th>\n",
       "      <td>2017</td>\n",
       "      <td>2046</td>\n",
       "      <td>7.600000e-05</td>\n",
       "      <td>8.98</td>\n",
       "      <td>31.4</td>\n",
       "      <td>0.002</td>\n",
       "      <td>-6.60</td>\n",
       "      <td>-6.96</td>\n",
       "      <td>0</td>\n",
       "    </tr>\n",
       "    <tr>\n",
       "      <th>2</th>\n",
       "      <td>2017</td>\n",
       "      <td>2062</td>\n",
       "      <td>1.600000e-05</td>\n",
       "      <td>18.33</td>\n",
       "      <td>31.4</td>\n",
       "      <td>0.002</td>\n",
       "      <td>-6.48</td>\n",
       "      <td>-6.87</td>\n",
       "      <td>0</td>\n",
       "    </tr>\n",
       "    <tr>\n",
       "      <th>3</th>\n",
       "      <td>2017</td>\n",
       "      <td>2076</td>\n",
       "      <td>2.000000e-07</td>\n",
       "      <td>4.99</td>\n",
       "      <td>26.7</td>\n",
       "      <td>0.016</td>\n",
       "      <td>-6.83</td>\n",
       "      <td>-6.95</td>\n",
       "      <td>0</td>\n",
       "    </tr>\n",
       "    <tr>\n",
       "      <th>4</th>\n",
       "      <td>2017</td>\n",
       "      <td>2096</td>\n",
       "      <td>2.300000e-08</td>\n",
       "      <td>19.46</td>\n",
       "      <td>19.2</td>\n",
       "      <td>0.497</td>\n",
       "      <td>-3.85</td>\n",
       "      <td>-4.30</td>\n",
       "      <td>0</td>\n",
       "    </tr>\n",
       "    <tr>\n",
       "      <th>...</th>\n",
       "      <td>...</td>\n",
       "      <td>...</td>\n",
       "      <td>...</td>\n",
       "      <td>...</td>\n",
       "      <td>...</td>\n",
       "      <td>...</td>\n",
       "      <td>...</td>\n",
       "      <td>...</td>\n",
       "      <td>...</td>\n",
       "    </tr>\n",
       "    <tr>\n",
       "      <th>678</th>\n",
       "      <td>2115</td>\n",
       "      <td>2115</td>\n",
       "      <td>2.800000e-07</td>\n",
       "      <td>15.00</td>\n",
       "      <td>28.0</td>\n",
       "      <td>0.008</td>\n",
       "      <td>-8.22</td>\n",
       "      <td>-8.22</td>\n",
       "      <td>0</td>\n",
       "    </tr>\n",
       "    <tr>\n",
       "      <th>679</th>\n",
       "      <td>2115</td>\n",
       "      <td>2115</td>\n",
       "      <td>2.300000e-08</td>\n",
       "      <td>3.27</td>\n",
       "      <td>29.2</td>\n",
       "      <td>0.005</td>\n",
       "      <td>-10.18</td>\n",
       "      <td>-10.20</td>\n",
       "      <td>0</td>\n",
       "    </tr>\n",
       "    <tr>\n",
       "      <th>680</th>\n",
       "      <td>2175</td>\n",
       "      <td>2199</td>\n",
       "      <td>3.700000e-04</td>\n",
       "      <td>5.99</td>\n",
       "      <td>20.2</td>\n",
       "      <td>0.490</td>\n",
       "      <td>-1.71</td>\n",
       "      <td>-2.32</td>\n",
       "      <td>1</td>\n",
       "    </tr>\n",
       "    <tr>\n",
       "      <th>681</th>\n",
       "      <td>2185</td>\n",
       "      <td>2198</td>\n",
       "      <td>1.600000e-03</td>\n",
       "      <td>15.87</td>\n",
       "      <td>22.1</td>\n",
       "      <td>0.160</td>\n",
       "      <td>-1.78</td>\n",
       "      <td>-1.83</td>\n",
       "      <td>1</td>\n",
       "    </tr>\n",
       "    <tr>\n",
       "      <th>682</th>\n",
       "      <td>2880</td>\n",
       "      <td>2880</td>\n",
       "      <td>1.200000e-04</td>\n",
       "      <td>14.10</td>\n",
       "      <td>17.6</td>\n",
       "      <td>1.300</td>\n",
       "      <td>-1.42</td>\n",
       "      <td>-1.42</td>\n",
       "      <td>1</td>\n",
       "    </tr>\n",
       "  </tbody>\n",
       "</table>\n",
       "<p>683 rows × 9 columns</p>\n",
       "</div>"
      ],
      "text/plain": [
       "     Period Start  Period End  Cumulative Impact Probability  \\\n",
       "0            2017        2017                   5.200000e-09   \n",
       "1            2017        2046                   7.600000e-05   \n",
       "2            2017        2062                   1.600000e-05   \n",
       "3            2017        2076                   2.000000e-07   \n",
       "4            2017        2096                   2.300000e-08   \n",
       "..            ...         ...                            ...   \n",
       "678          2115        2115                   2.800000e-07   \n",
       "679          2115        2115                   2.300000e-08   \n",
       "680          2175        2199                   3.700000e-04   \n",
       "681          2185        2198                   1.600000e-03   \n",
       "682          2880        2880                   1.200000e-04   \n",
       "\n",
       "     Asteroid Velocity  Asteroid Magnitude  Asteroid Diameter (km)  \\\n",
       "0                17.77                28.3                   0.007   \n",
       "1                 8.98                31.4                   0.002   \n",
       "2                18.33                31.4                   0.002   \n",
       "3                 4.99                26.7                   0.016   \n",
       "4                19.46                19.2                   0.497   \n",
       "..                 ...                 ...                     ...   \n",
       "678              15.00                28.0                   0.008   \n",
       "679               3.27                29.2                   0.005   \n",
       "680               5.99                20.2                   0.490   \n",
       "681              15.87                22.1                   0.160   \n",
       "682              14.10                17.6                   1.300   \n",
       "\n",
       "     Cumulative Palermo Scale  Maximum Palermo Scale  Maximum Torino Scale  \n",
       "0                       -8.31                  -8.31                     0  \n",
       "1                       -6.60                  -6.96                     0  \n",
       "2                       -6.48                  -6.87                     0  \n",
       "3                       -6.83                  -6.95                     0  \n",
       "4                       -3.85                  -4.30                     0  \n",
       "..                        ...                    ...                   ...  \n",
       "678                     -8.22                  -8.22                     0  \n",
       "679                    -10.18                 -10.20                     0  \n",
       "680                     -1.71                  -2.32                     1  \n",
       "681                     -1.78                  -1.83                     1  \n",
       "682                     -1.42                  -1.42                     1  \n",
       "\n",
       "[683 rows x 9 columns]"
      ]
     },
     "execution_count": 21,
     "metadata": {},
     "output_type": "execute_result"
    }
   ],
   "source": [
    "X"
   ]
  },
  {
   "cell_type": "code",
   "execution_count": 179,
   "metadata": {},
   "outputs": [],
   "source": [
    "poly_converter = PolynomialFeatures(degree=2, include_bias=False)\n",
    "poly_converter.fit(X)\n",
    "poly_features = poly_converter.transform(X)"
   ]
  },
  {
   "cell_type": "code",
   "execution_count": 180,
   "metadata": {},
   "outputs": [],
   "source": [
    "poly_df = pd.DataFrame(poly_features)\n",
    "poly_df = pd.concat([poly_df, y], axis=1)"
   ]
  },
  {
   "cell_type": "code",
   "execution_count": 181,
   "metadata": {},
   "outputs": [
    {
     "data": {
      "text/plain": [
       "Index([ 0,  9, 36, 15, 48,  6, 23, 37, 12,  3, 20,  1, 34, 49, 41, 18, 33, 21,\n",
       "       10, 39, 16,  4, 51, 45,  7, 46, 35, 24, 40],\n",
       "      dtype='object')"
      ]
     },
     "execution_count": 181,
     "metadata": {},
     "output_type": "execute_result"
    }
   ],
   "source": [
    "best_features = poly_df.corr()['Possible Impacts'].abs().sort_values(ascending=False)[1:30].index\n",
    "best_features"
   ]
  },
  {
   "cell_type": "code",
   "execution_count": 182,
   "metadata": {},
   "outputs": [],
   "source": [
    "poly_df = poly_df[best_features]"
   ]
  },
  {
   "cell_type": "code",
   "execution_count": 183,
   "metadata": {},
   "outputs": [
    {
     "data": {
      "text/plain": [
       "(683, 29)"
      ]
     },
     "execution_count": 183,
     "metadata": {},
     "output_type": "execute_result"
    }
   ],
   "source": [
    "poly_df.shape"
   ]
  },
  {
   "cell_type": "code",
   "execution_count": 184,
   "metadata": {},
   "outputs": [],
   "source": [
    "X_train, X_test, y_train, y_test = train_test_split(poly_df, y, test_size=0.33)"
   ]
  },
  {
   "cell_type": "code",
   "execution_count": 185,
   "metadata": {},
   "outputs": [
    {
     "data": {
      "text/plain": [
       "StandardScaler()"
      ]
     },
     "execution_count": 185,
     "metadata": {},
     "output_type": "execute_result"
    }
   ],
   "source": [
    "poly_scaler = StandardScaler()\n",
    "poly_scaler.fit(X_train)"
   ]
  },
  {
   "cell_type": "code",
   "execution_count": 186,
   "metadata": {},
   "outputs": [],
   "source": [
    "X_train = poly_scaler.transform(X_train)\n",
    "X_test = poly_scaler.transform(X_test)"
   ]
  },
  {
   "cell_type": "markdown",
   "metadata": {},
   "source": [
    "Elastic Net"
   ]
  },
  {
   "cell_type": "code",
   "execution_count": 187,
   "metadata": {
    "scrolled": true
   },
   "outputs": [
    {
     "name": "stdout",
     "output_type": "stream",
     "text": [
      "Fitting 5 folds for each of 18 candidates, totalling 90 fits\n"
     ]
    },
    {
     "name": "stderr",
     "output_type": "stream",
     "text": [
      "C:\\Users\\nihal\\Anaconda3\\envs\\MLprojects\\lib\\site-packages\\sklearn\\linear_model\\_coordinate_descent.py:530: ConvergenceWarning: Objective did not converge. You might want to increase the number of iterations. Duality gap: 2655.9032153515145, tolerance: 622.855453150685\n",
      "  model = cd_fast.enet_coordinate_descent(\n",
      "C:\\Users\\nihal\\Anaconda3\\envs\\MLprojects\\lib\\site-packages\\sklearn\\linear_model\\_coordinate_descent.py:530: ConvergenceWarning: Objective did not converge. You might want to increase the number of iterations. Duality gap: 467.79529903503135, tolerance: 441.6497292349727\n",
      "  model = cd_fast.enet_coordinate_descent(\n",
      "C:\\Users\\nihal\\Anaconda3\\envs\\MLprojects\\lib\\site-packages\\sklearn\\linear_model\\_coordinate_descent.py:530: ConvergenceWarning: Objective did not converge. You might want to increase the number of iterations. Duality gap: 1921.3438802049495, tolerance: 503.01918360655736\n",
      "  model = cd_fast.enet_coordinate_descent(\n",
      "C:\\Users\\nihal\\Anaconda3\\envs\\MLprojects\\lib\\site-packages\\sklearn\\linear_model\\_coordinate_descent.py:530: ConvergenceWarning: Objective did not converge. You might want to increase the number of iterations. Duality gap: 445658.77277996973, tolerance: 551.5665397260275\n",
      "  model = cd_fast.enet_coordinate_descent(\n",
      "C:\\Users\\nihal\\Anaconda3\\envs\\MLprojects\\lib\\site-packages\\sklearn\\linear_model\\_coordinate_descent.py:530: ConvergenceWarning: Objective did not converge. You might want to increase the number of iterations. Duality gap: 578722.9213276175, tolerance: 622.855453150685\n",
      "  model = cd_fast.enet_coordinate_descent(\n",
      "C:\\Users\\nihal\\Anaconda3\\envs\\MLprojects\\lib\\site-packages\\sklearn\\linear_model\\_coordinate_descent.py:530: ConvergenceWarning: Objective did not converge. You might want to increase the number of iterations. Duality gap: 478911.2008304675, tolerance: 568.616136885246\n",
      "  model = cd_fast.enet_coordinate_descent(\n",
      "C:\\Users\\nihal\\Anaconda3\\envs\\MLprojects\\lib\\site-packages\\sklearn\\linear_model\\_coordinate_descent.py:530: ConvergenceWarning: Objective did not converge. You might want to increase the number of iterations. Duality gap: 236334.77054501837, tolerance: 441.6497292349727\n",
      "  model = cd_fast.enet_coordinate_descent(\n",
      "C:\\Users\\nihal\\Anaconda3\\envs\\MLprojects\\lib\\site-packages\\sklearn\\linear_model\\_coordinate_descent.py:530: ConvergenceWarning: Objective did not converge. You might want to increase the number of iterations. Duality gap: 410392.5037087989, tolerance: 503.01918360655736\n",
      "  model = cd_fast.enet_coordinate_descent(\n",
      "C:\\Users\\nihal\\Anaconda3\\envs\\MLprojects\\lib\\site-packages\\sklearn\\linear_model\\_coordinate_descent.py:530: ConvergenceWarning: Objective did not converge. You might want to increase the number of iterations. Duality gap: 3742.3003227403387, tolerance: 568.616136885246\n",
      "  model = cd_fast.enet_coordinate_descent(\n",
      "C:\\Users\\nihal\\Anaconda3\\envs\\MLprojects\\lib\\site-packages\\sklearn\\linear_model\\_coordinate_descent.py:530: ConvergenceWarning: Objective did not converge. You might want to increase the number of iterations. Duality gap: 19473.666930244304, tolerance: 441.6497292349727\n",
      "  model = cd_fast.enet_coordinate_descent(\n",
      "C:\\Users\\nihal\\Anaconda3\\envs\\MLprojects\\lib\\site-packages\\sklearn\\linear_model\\_coordinate_descent.py:530: ConvergenceWarning: Objective did not converge. You might want to increase the number of iterations. Duality gap: 10118.955991268624, tolerance: 503.01918360655736\n",
      "  model = cd_fast.enet_coordinate_descent(\n",
      "C:\\Users\\nihal\\Anaconda3\\envs\\MLprojects\\lib\\site-packages\\sklearn\\linear_model\\_coordinate_descent.py:530: ConvergenceWarning: Objective did not converge. You might want to increase the number of iterations. Duality gap: 490090.08930656547, tolerance: 672.469636761488\n",
      "  model = cd_fast.enet_coordinate_descent(\n"
     ]
    },
    {
     "data": {
      "text/plain": [
       "{'alpha': 0.05, 'l1_ratio': 1}"
      ]
     },
     "execution_count": 187,
     "metadata": {},
     "output_type": "execute_result"
    }
   ],
   "source": [
    "base_model = ElasticNet(max_iter=10000)\n",
    "param_grid = {'alpha':[0.05, 0.1, 1],\n",
    "              'l1_ratio':[.1, .5, .7, .9, .99, 1]}\n",
    "grid_model = GridSearchCV(estimator=base_model, param_grid=param_grid, scoring='neg_mean_squared_error', cv=5, verbose=1)\n",
    "grid_model.fit(X_train, y_train)\n",
    "grid_model.best_params_"
   ]
  },
  {
   "cell_type": "code",
   "execution_count": 188,
   "metadata": {},
   "outputs": [
    {
     "name": "stderr",
     "output_type": "stream",
     "text": [
      "C:\\Users\\nihal\\Anaconda3\\envs\\MLprojects\\lib\\site-packages\\sklearn\\linear_model\\_coordinate_descent.py:530: ConvergenceWarning: Objective did not converge. You might want to increase the number of iterations. Duality gap: 50732.92570826225, tolerance: 672.469636761488\n",
      "  model = cd_fast.enet_coordinate_descent(\n"
     ]
    }
   ],
   "source": [
    "elasticNet = ElasticNet(alpha=0.05, l1_ratio=1, max_iter=100000)\n",
    "elasticNet.fit(X_train, y_train)\n",
    "y_pred_en = elasticNet.predict(X_test)"
   ]
  },
  {
   "cell_type": "code",
   "execution_count": 189,
   "metadata": {},
   "outputs": [
    {
     "name": "stdout",
     "output_type": "stream",
     "text": [
      "MAE of ElasticNet with ploynomial features: 38.347156816049655\n",
      "RMSE of ElasticNet with ploynomial features: 67.42664688058834\n",
      "R2 score of ElasticNet with ploynomial features: 0.5072802483295298\n"
     ]
    }
   ],
   "source": [
    "print(\"MAE of ElasticNet with ploynomial features:\", mean_absolute_error(y_test, y_pred_en))\n",
    "print(\"RMSE of ElasticNet with ploynomial features:\", np.sqrt(mean_squared_error(y_test, y_pred_en)))\n",
    "print(\"R2 score of ElasticNet with ploynomial features:\", r2_score(y_test, y_pred_en))"
   ]
  },
  {
   "cell_type": "code",
   "execution_count": null,
   "metadata": {},
   "outputs": [],
   "source": []
  }
 ],
 "metadata": {
  "colab": {
   "collapsed_sections": [],
   "name": "Impacts",
   "provenance": []
  },
  "kernelspec": {
   "display_name": "Python 3 (ipykernel)",
   "language": "python",
   "name": "python3"
  },
  "language_info": {
   "codemirror_mode": {
    "name": "ipython",
    "version": 3
   },
   "file_extension": ".py",
   "mimetype": "text/x-python",
   "name": "python",
   "nbconvert_exporter": "python",
   "pygments_lexer": "ipython3",
   "version": "3.9.6"
  }
 },
 "nbformat": 4,
 "nbformat_minor": 1
}
